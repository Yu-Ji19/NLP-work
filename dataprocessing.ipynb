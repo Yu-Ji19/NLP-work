{
 "cells": [
  {
   "cell_type": "markdown",
   "metadata": {},
   "source": [
    "<b>Import data<b>"
   ]
  },
  {
   "cell_type": "code",
   "execution_count": 1,
   "metadata": {
    "collapsed": true
   },
   "outputs": [],
   "source": [
    "import pandas\n",
    "\n",
    "articles1 = pandas.read_csv(\"/Users/yuji/Desktop/COMP562/FinalProject/articles1.csv\")\n",
    "# articles2 = pandas.read_csv(\"/Users/yuji/Desktop/COMP562/FinalProject/articles2.csv\")\n",
    "# articles3 = pandas.read_csv(\"/Users/yuji/Desktop/COMP562/FinalProject/articles3.csv\")\n",
    "fakearticle = pandas.read_csv(\"/Users/yuji/Desktop/COMP562/FinalProject/fake.csv\")"
   ]
  },
  {
   "cell_type": "markdown",
   "metadata": {},
   "source": [
    "<b>Process article 1<b>"
   ]
  },
  {
   "cell_type": "code",
   "execution_count": 2,
   "metadata": {
    "collapsed": true
   },
   "outputs": [],
   "source": [
    "import numpy as np"
   ]
  },
  {
   "cell_type": "code",
   "execution_count": 3,
   "metadata": {
    "collapsed": true
   },
   "outputs": [],
   "source": [
    "articles1_content = articles1.drop([\"Unnamed: 0\", \"id\", \"publication\",\"author\",\"date\",\"year\",\"month\",\"url\"], axis = 1)\n",
    "articles1_array = np.asarray(articles1_content)\n",
    "\n",
    "# articles3_content = articles3.drop([\"Unnamed: 0\", \"id\", \"publication\",\"author\",\"date\",\"year\",\"month\",\"url\"], axis = 1)\n",
    "# articles3_array = np.asarray(articles3_content)\n",
    "fakearticle_content = fakearticle.drop(['uuid', 'ord_in_thread','published','author','language','crawled','site_url','country','domain_rank','thread_title','spam_score','main_img_url','replies_count','participants_count','likes','comments','shares','type'], axis = 1)\n",
    "fake_array = np.asarray(fakearticle_content)[:, :]"
   ]
  },
  {
   "cell_type": "markdown",
   "metadata": {
    "collapsed": true
   },
   "source": [
    "<b>randomly choose 1000 data<b>"
   ]
  },
  {
   "cell_type": "code",
   "execution_count": 4,
   "metadata": {},
   "outputs": [
    {
     "name": "stdout",
     "output_type": "stream",
     "text": [
      "(100, 2)\n",
      "(100, 2)\n"
     ]
    }
   ],
   "source": [
    "real_size = np.shape(articles1_array)[0]\n",
    "real_index = np.random.choice(real_size, 100)\n",
    "real_data = articles1_array[real_index, :]\n",
    "print(np.shape(real_data))\n",
    "\n",
    "fake_size = np.shape(fake_array)[0]\n",
    "fake_index = np.random.choice(fake_size, 100)\n",
    "fake_data = fake_array[fake_index, :]\n",
    "print(np.shape(fake_data))\n",
    "\n",
    "data = np.concatenate((real_data, fake_data),axis = 0)"
   ]
  },
  {
   "cell_type": "code",
   "execution_count": 18,
   "metadata": {
    "collapsed": true
   },
   "outputs": [],
   "source": [
    "test_size = np.shape(articles2_array)[0]\n",
    "test_index = np.random.choice(real_size, 1600)\n",
    "test_data = articles2_array[test_index, :]\n",
    "\n",
    "fake_index2 = np.random.choice(fake_size, 400)\n",
    "test_fake = fake_array[fake_index, :]\n",
    "\n",
    "test = np.concatenate((test_data, test_fake), axis = 0)"
   ]
  },
  {
   "cell_type": "code",
   "execution_count": 19,
   "metadata": {},
   "outputs": [
    {
     "name": "stdout",
     "output_type": "stream",
     "text": [
      "(2000, 2)\n"
     ]
    }
   ],
   "source": [
    "print(np.shape(data))"
   ]
  },
  {
   "cell_type": "markdown",
   "metadata": {},
   "source": [
    "<b> create dictionary <b>"
   ]
  },
  {
   "cell_type": "code",
   "execution_count": 5,
   "metadata": {
    "collapsed": true
   },
   "outputs": [],
   "source": [
    "dict = {}\n",
    "count = 0\n",
    "list = []"
   ]
  },
  {
   "cell_type": "code",
   "execution_count": 6,
   "metadata": {
    "collapsed": true,
    "scrolled": true
   },
   "outputs": [],
   "source": [
    "import re\n",
    "# datas = [articles1_array, articles2_array, articles3_array, fake_array]\n",
    "# datas = [articles1_array, fake_array]\n",
    "N = np.shape(data)[0];\n",
    "for i in range(N):\n",
    "    if((type(data[i,0]) is not str)):\n",
    "        continue;\n",
    "    if((type(data[i,1]) is not str)):\n",
    "        continue;\n",
    "    title = re.sub(r'[^\\w\\s]','',data[i,0]).upper().split()\n",
    "    content = re.sub(r'[^\\w\\s]','',data[i,1]).upper().split()\n",
    "    content.extend(title)\n",
    "    for word in content:\n",
    "        if(dict.get(word) is None):\n",
    "            dict[word]=count;\n",
    "            count+=1"
   ]
  },
  {
   "cell_type": "code",
   "execution_count": 22,
   "metadata": {},
   "outputs": [
    {
     "name": "stdout",
     "output_type": "stream",
     "text": [
      "48983\n"
     ]
    }
   ],
   "source": [
    "print(len([*dict]))"
   ]
  },
  {
   "cell_type": "code",
   "execution_count": null,
   "metadata": {
    "collapsed": true,
    "scrolled": true
   },
   "outputs": [],
   "source": []
  },
  {
   "cell_type": "markdown",
   "metadata": {},
   "source": [
    "<b>Create Feature<b>"
   ]
  },
  {
   "cell_type": "code",
   "execution_count": 23,
   "metadata": {
    "collapsed": true
   },
   "outputs": [],
   "source": [
    "count = 0\n",
    "F = len([*dict])\n",
    "N = np.shape(data)[0];\n",
    "X = np.zeros((N, F))\n",
    "\n",
    "for i in range(N):\n",
    "    if((type(data[i,0]) is not str)):\n",
    "        continue;\n",
    "    if((type(data[i,1]) is not str)):\n",
    "        continue;\n",
    "    title = re.sub(r'[^\\w\\s]','',data[i,0]).upper().split()\n",
    "    content = re.sub(r'[^\\w\\s]','',data[i,1]).upper().split()\n",
    "    content.extend(title)\n",
    "    for word in content:\n",
    "        X[count, dict[word]] += 1\n",
    "    count+=1"
   ]
  },
  {
   "cell_type": "markdown",
   "metadata": {},
   "source": [
    "<b>create test feature<b>"
   ]
  },
  {
   "cell_type": "code",
   "execution_count": 25,
   "metadata": {
    "collapsed": true
   },
   "outputs": [],
   "source": [
    "count = 0\n",
    "F = len([*dict])\n",
    "N = np.shape(test)[0];\n",
    "X_test = np.zeros((N, F))\n",
    "\n",
    "for i in range(N):\n",
    "    if((type(test[i,0]) is not str)):\n",
    "        continue;\n",
    "    if((type(test[i,1]) is not str)):\n",
    "        continue;\n",
    "    title = re.sub(r'[^\\w\\s]','',test[i,0]).upper().split()\n",
    "    content = re.sub(r'[^\\w\\s]','',test[i,1]).upper().split()\n",
    "    content.extend(title)\n",
    "    for word in content:\n",
    "        if(dict.get(word) is not None):\n",
    "            X_test[count, dict[word]] += 1\n",
    "    count+=1"
   ]
  },
  {
   "cell_type": "markdown",
   "metadata": {},
   "source": [
    "<b> create label<b>"
   ]
  },
  {
   "cell_type": "code",
   "execution_count": 27,
   "metadata": {},
   "outputs": [
    {
     "name": "stdout",
     "output_type": "stream",
     "text": [
      "(1, 2000)\n"
     ]
    }
   ],
   "source": [
    "lab = [1]*1600\n",
    "neg = [0]*400\n",
    "lab.extend(neg)\n",
    "lab = np.asarray(lab)\n",
    "print(np.shape([lab.T]))\n",
    "X = np.concatenate((X, np.transpose([lab.T])), axis = 1)\n",
    "X_test = np.concatenate((X_test, np.transpose([lab.T])), axis = 1)"
   ]
  },
  {
   "cell_type": "code",
   "execution_count": 28,
   "metadata": {},
   "outputs": [
    {
     "name": "stdout",
     "output_type": "stream",
     "text": [
      "done\n",
      "done\n"
     ]
    }
   ],
   "source": [
    "np.random.shuffle(X)\n",
    "np.random.shuffle(X_test)\n",
    "np.save(\"/Users/yuji/Desktop/train.npy\", X[:,:np.shape(X)[1]-2])\n",
    "print(\"done\")\n",
    "np.save(\"/Users/yuji/Desktop/train_label.npy\", X[:,np.shape(X)[1]-1])\n",
    "print(\"done\")"
   ]
  },
  {
   "cell_type": "code",
   "execution_count": 29,
   "metadata": {
    "collapsed": true
   },
   "outputs": [],
   "source": [
    "np.save(\"/Users/yuji/Desktop/test.npy\", X_test[:,:np.shape(X_test)[1]-2])\n",
    "np.save(\"/Users/yuji/Desktop/test_label.npy\", X_test[:,np.shape(X_test)[1]-1])"
   ]
  },
  {
   "cell_type": "code",
   "execution_count": 30,
   "metadata": {},
   "outputs": [
    {
     "name": "stdout",
     "output_type": "stream",
     "text": [
      "[24398 15038  1858 10329 32285 49949 20399 49157 16408 21448]\n",
      "[5272 1605 7758 1062 6856 8784 3427 5548 2148 1466]\n",
      "[26538 37603 46688 26642 29729 31483  8312 37648 46193 45360]\n",
      "[8422 5993 8576 5935 9664 7215 4017 5195 4741 4376]\n"
     ]
    }
   ],
   "source": []
  },
  {
   "cell_type": "code",
   "execution_count": null,
   "metadata": {
    "collapsed": true
   },
   "outputs": [],
   "source": []
  }
 ],
 "metadata": {
  "kernelspec": {
   "display_name": "Python 3",
   "language": "python",
   "name": "python3"
  },
  "language_info": {
   "codemirror_mode": {
    "name": "ipython",
    "version": 3
   },
   "file_extension": ".py",
   "mimetype": "text/x-python",
   "name": "python",
   "nbconvert_exporter": "python",
   "pygments_lexer": "ipython3",
   "version": "3.6.3"
  }
 },
 "nbformat": 4,
 "nbformat_minor": 2
}
